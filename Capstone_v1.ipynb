{
 "cells": [
  {
   "cell_type": "code",
   "execution_count": 54,
   "id": "0dcce352",
   "metadata": {},
   "outputs": [],
   "source": [
    "import pandas as pd\n",
    "import numpy as np\n",
    "import matplotlib.pyplot as plt\n",
    "import csv as csv"
   ]
  },
  {
   "cell_type": "code",
   "execution_count": 2,
   "id": "aab1474f",
   "metadata": {},
   "outputs": [],
   "source": [
    "# read event data  for game_id and return as a DataFrame\n",
    "def read_event_data(DATADIR,game_id):\n",
    "    eventfile = '/Sample_Game_%d/Sample_Game_%d_RawEventsData.csv' % (game_id,game_id) # filename\n",
    "    events = pd.read_csv('{}/{}'.format(DATADIR, eventfile)) # read data\n",
    "    return events"
   ]
  },
  {
   "cell_type": "code",
   "execution_count": 3,
   "id": "a9f208a4",
   "metadata": {},
   "outputs": [],
   "source": [
    "# set up initial path to data\n",
    "DATADIR = \"/Users/gkrish/Documents/Football Performance Analysis/sample-data-master/data/\"\n",
    "game_id = 2"
   ]
  },
  {
   "cell_type": "code",
   "execution_count": 4,
   "id": "1380e576",
   "metadata": {},
   "outputs": [],
   "source": [
    "# read in the event data\n",
    "events = read_event_data(DATADIR,game_id)"
   ]
  },
  {
   "cell_type": "code",
   "execution_count": 5,
   "id": "870c5211",
   "metadata": {},
   "outputs": [
    {
     "data": {
      "text/html": [
       "<div>\n",
       "<style scoped>\n",
       "    .dataframe tbody tr th:only-of-type {\n",
       "        vertical-align: middle;\n",
       "    }\n",
       "\n",
       "    .dataframe tbody tr th {\n",
       "        vertical-align: top;\n",
       "    }\n",
       "\n",
       "    .dataframe thead th {\n",
       "        text-align: right;\n",
       "    }\n",
       "</style>\n",
       "<table border=\"1\" class=\"dataframe\">\n",
       "  <thead>\n",
       "    <tr style=\"text-align: right;\">\n",
       "      <th></th>\n",
       "      <th>Team</th>\n",
       "      <th>Type</th>\n",
       "      <th>Subtype</th>\n",
       "      <th>Period</th>\n",
       "      <th>Start Frame</th>\n",
       "      <th>Start Time [s]</th>\n",
       "      <th>End Frame</th>\n",
       "      <th>End Time [s]</th>\n",
       "      <th>From</th>\n",
       "      <th>To</th>\n",
       "      <th>Start X</th>\n",
       "      <th>Start Y</th>\n",
       "      <th>End X</th>\n",
       "      <th>End Y</th>\n",
       "    </tr>\n",
       "  </thead>\n",
       "  <tbody>\n",
       "    <tr>\n",
       "      <th>0</th>\n",
       "      <td>Away</td>\n",
       "      <td>SET PIECE</td>\n",
       "      <td>KICK OFF</td>\n",
       "      <td>1</td>\n",
       "      <td>51</td>\n",
       "      <td>2.04</td>\n",
       "      <td>51</td>\n",
       "      <td>2.04</td>\n",
       "      <td>Player23</td>\n",
       "      <td>NaN</td>\n",
       "      <td>NaN</td>\n",
       "      <td>NaN</td>\n",
       "      <td>NaN</td>\n",
       "      <td>NaN</td>\n",
       "    </tr>\n",
       "    <tr>\n",
       "      <th>1</th>\n",
       "      <td>Away</td>\n",
       "      <td>PASS</td>\n",
       "      <td>NaN</td>\n",
       "      <td>1</td>\n",
       "      <td>51</td>\n",
       "      <td>2.04</td>\n",
       "      <td>87</td>\n",
       "      <td>3.48</td>\n",
       "      <td>Player23</td>\n",
       "      <td>Player20</td>\n",
       "      <td>0.50</td>\n",
       "      <td>0.50</td>\n",
       "      <td>0.40</td>\n",
       "      <td>0.51</td>\n",
       "    </tr>\n",
       "    <tr>\n",
       "      <th>2</th>\n",
       "      <td>Away</td>\n",
       "      <td>PASS</td>\n",
       "      <td>NaN</td>\n",
       "      <td>1</td>\n",
       "      <td>146</td>\n",
       "      <td>5.84</td>\n",
       "      <td>186</td>\n",
       "      <td>7.44</td>\n",
       "      <td>Player20</td>\n",
       "      <td>Player18</td>\n",
       "      <td>0.43</td>\n",
       "      <td>0.50</td>\n",
       "      <td>0.44</td>\n",
       "      <td>0.22</td>\n",
       "    </tr>\n",
       "    <tr>\n",
       "      <th>3</th>\n",
       "      <td>Away</td>\n",
       "      <td>PASS</td>\n",
       "      <td>NaN</td>\n",
       "      <td>1</td>\n",
       "      <td>248</td>\n",
       "      <td>9.92</td>\n",
       "      <td>283</td>\n",
       "      <td>11.32</td>\n",
       "      <td>Player18</td>\n",
       "      <td>Player17</td>\n",
       "      <td>0.47</td>\n",
       "      <td>0.19</td>\n",
       "      <td>0.31</td>\n",
       "      <td>0.28</td>\n",
       "    </tr>\n",
       "    <tr>\n",
       "      <th>4</th>\n",
       "      <td>Away</td>\n",
       "      <td>PASS</td>\n",
       "      <td>NaN</td>\n",
       "      <td>1</td>\n",
       "      <td>316</td>\n",
       "      <td>12.64</td>\n",
       "      <td>346</td>\n",
       "      <td>13.84</td>\n",
       "      <td>Player17</td>\n",
       "      <td>Player16</td>\n",
       "      <td>0.29</td>\n",
       "      <td>0.32</td>\n",
       "      <td>0.26</td>\n",
       "      <td>0.58</td>\n",
       "    </tr>\n",
       "  </tbody>\n",
       "</table>\n",
       "</div>"
      ],
      "text/plain": [
       "   Team       Type   Subtype  Period  Start Frame  Start Time [s]  End Frame  \\\n",
       "0  Away  SET PIECE  KICK OFF       1           51            2.04         51   \n",
       "1  Away       PASS       NaN       1           51            2.04         87   \n",
       "2  Away       PASS       NaN       1          146            5.84        186   \n",
       "3  Away       PASS       NaN       1          248            9.92        283   \n",
       "4  Away       PASS       NaN       1          316           12.64        346   \n",
       "\n",
       "   End Time [s]      From        To  Start X  Start Y  End X  End Y  \n",
       "0          2.04  Player23       NaN      NaN      NaN    NaN    NaN  \n",
       "1          3.48  Player23  Player20     0.50     0.50   0.40   0.51  \n",
       "2          7.44  Player20  Player18     0.43     0.50   0.44   0.22  \n",
       "3         11.32  Player18  Player17     0.47     0.19   0.31   0.28  \n",
       "4         13.84  Player17  Player16     0.29     0.32   0.26   0.58  "
      ]
     },
     "execution_count": 5,
     "metadata": {},
     "output_type": "execute_result"
    }
   ],
   "source": [
    "events.head()"
   ]
  },
  {
   "cell_type": "code",
   "execution_count": 6,
   "id": "97a09e27",
   "metadata": {},
   "outputs": [
    {
     "name": "stdout",
     "output_type": "stream",
     "text": [
      "Type\n",
      "PASS              964\n",
      "CHALLENGE         311\n",
      "RECOVERY          248\n",
      "BALL LOST         233\n",
      "SET PIECE          80\n",
      "BALL OUT           49\n",
      "SHOT               24\n",
      "FAULT RECEIVED     20\n",
      "CARD                6\n",
      "Name: count, dtype: int64\n"
     ]
    }
   ],
   "source": [
    "# count the number of each event type in the data\n",
    "print(events['Type'].value_counts())"
   ]
  },
  {
   "cell_type": "code",
   "execution_count": 7,
   "id": "337e1323",
   "metadata": {},
   "outputs": [],
   "source": [
    "#changing the coordinate system\n",
    "def to_metric_coordinates(data,field_dimen=(106.,68.) ):\n",
    "    x_columns = [c for c in data.columns if c[-1].lower()=='x']\n",
    "    y_columns = [c for c in data.columns if c[-1].lower()=='y']\n",
    "    data[x_columns] = ( data[x_columns]-0.5 ) * field_dimen[0]\n",
    "    data[y_columns] = -1 * ( data[y_columns]-0.5 ) * field_dimen[1]\n",
    "    return data"
   ]
  },
  {
   "cell_type": "code",
   "execution_count": 9,
   "id": "4011c031",
   "metadata": {},
   "outputs": [],
   "source": [
    "#unit conversion from metric data(range 0 - 1 starting from top right) units to meters\n",
    "events = to_metric_coordinates(events)"
   ]
  },
  {
   "cell_type": "code",
   "execution_count": 10,
   "id": "b718bf8f",
   "metadata": {},
   "outputs": [
    {
     "data": {
      "text/html": [
       "<div>\n",
       "<style scoped>\n",
       "    .dataframe tbody tr th:only-of-type {\n",
       "        vertical-align: middle;\n",
       "    }\n",
       "\n",
       "    .dataframe tbody tr th {\n",
       "        vertical-align: top;\n",
       "    }\n",
       "\n",
       "    .dataframe thead th {\n",
       "        text-align: right;\n",
       "    }\n",
       "</style>\n",
       "<table border=\"1\" class=\"dataframe\">\n",
       "  <thead>\n",
       "    <tr style=\"text-align: right;\">\n",
       "      <th></th>\n",
       "      <th>Team</th>\n",
       "      <th>Type</th>\n",
       "      <th>Subtype</th>\n",
       "      <th>Period</th>\n",
       "      <th>Start Frame</th>\n",
       "      <th>Start Time [s]</th>\n",
       "      <th>End Frame</th>\n",
       "      <th>End Time [s]</th>\n",
       "      <th>From</th>\n",
       "      <th>To</th>\n",
       "      <th>Start X</th>\n",
       "      <th>Start Y</th>\n",
       "      <th>End X</th>\n",
       "      <th>End Y</th>\n",
       "    </tr>\n",
       "  </thead>\n",
       "  <tbody>\n",
       "    <tr>\n",
       "      <th>0</th>\n",
       "      <td>Away</td>\n",
       "      <td>SET PIECE</td>\n",
       "      <td>KICK OFF</td>\n",
       "      <td>1</td>\n",
       "      <td>51</td>\n",
       "      <td>2.04</td>\n",
       "      <td>51</td>\n",
       "      <td>2.04</td>\n",
       "      <td>Player23</td>\n",
       "      <td>NaN</td>\n",
       "      <td>NaN</td>\n",
       "      <td>NaN</td>\n",
       "      <td>NaN</td>\n",
       "      <td>NaN</td>\n",
       "    </tr>\n",
       "    <tr>\n",
       "      <th>1</th>\n",
       "      <td>Away</td>\n",
       "      <td>PASS</td>\n",
       "      <td>NaN</td>\n",
       "      <td>1</td>\n",
       "      <td>51</td>\n",
       "      <td>2.04</td>\n",
       "      <td>87</td>\n",
       "      <td>3.48</td>\n",
       "      <td>Player23</td>\n",
       "      <td>Player20</td>\n",
       "      <td>0.00</td>\n",
       "      <td>-0.00</td>\n",
       "      <td>-10.60</td>\n",
       "      <td>-0.68</td>\n",
       "    </tr>\n",
       "    <tr>\n",
       "      <th>2</th>\n",
       "      <td>Away</td>\n",
       "      <td>PASS</td>\n",
       "      <td>NaN</td>\n",
       "      <td>1</td>\n",
       "      <td>146</td>\n",
       "      <td>5.84</td>\n",
       "      <td>186</td>\n",
       "      <td>7.44</td>\n",
       "      <td>Player20</td>\n",
       "      <td>Player18</td>\n",
       "      <td>-7.42</td>\n",
       "      <td>-0.00</td>\n",
       "      <td>-6.36</td>\n",
       "      <td>19.04</td>\n",
       "    </tr>\n",
       "    <tr>\n",
       "      <th>3</th>\n",
       "      <td>Away</td>\n",
       "      <td>PASS</td>\n",
       "      <td>NaN</td>\n",
       "      <td>1</td>\n",
       "      <td>248</td>\n",
       "      <td>9.92</td>\n",
       "      <td>283</td>\n",
       "      <td>11.32</td>\n",
       "      <td>Player18</td>\n",
       "      <td>Player17</td>\n",
       "      <td>-3.18</td>\n",
       "      <td>21.08</td>\n",
       "      <td>-20.14</td>\n",
       "      <td>14.96</td>\n",
       "    </tr>\n",
       "    <tr>\n",
       "      <th>4</th>\n",
       "      <td>Away</td>\n",
       "      <td>PASS</td>\n",
       "      <td>NaN</td>\n",
       "      <td>1</td>\n",
       "      <td>316</td>\n",
       "      <td>12.64</td>\n",
       "      <td>346</td>\n",
       "      <td>13.84</td>\n",
       "      <td>Player17</td>\n",
       "      <td>Player16</td>\n",
       "      <td>-22.26</td>\n",
       "      <td>12.24</td>\n",
       "      <td>-25.44</td>\n",
       "      <td>-5.44</td>\n",
       "    </tr>\n",
       "  </tbody>\n",
       "</table>\n",
       "</div>"
      ],
      "text/plain": [
       "   Team       Type   Subtype  Period  Start Frame  Start Time [s]  End Frame  \\\n",
       "0  Away  SET PIECE  KICK OFF       1           51            2.04         51   \n",
       "1  Away       PASS       NaN       1           51            2.04         87   \n",
       "2  Away       PASS       NaN       1          146            5.84        186   \n",
       "3  Away       PASS       NaN       1          248            9.92        283   \n",
       "4  Away       PASS       NaN       1          316           12.64        346   \n",
       "\n",
       "   End Time [s]      From        To  Start X  Start Y  End X  End Y  \n",
       "0          2.04  Player23       NaN      NaN      NaN    NaN    NaN  \n",
       "1          3.48  Player23  Player20     0.00    -0.00 -10.60  -0.68  \n",
       "2          7.44  Player20  Player18    -7.42    -0.00  -6.36  19.04  \n",
       "3         11.32  Player18  Player17    -3.18    21.08 -20.14  14.96  \n",
       "4         13.84  Player17  Player16   -22.26    12.24 -25.44  -5.44  "
      ]
     },
     "execution_count": 10,
     "metadata": {},
     "output_type": "execute_result"
    }
   ],
   "source": [
    "events.head()"
   ]
  },
  {
   "cell_type": "code",
   "execution_count": 11,
   "id": "34c89393",
   "metadata": {},
   "outputs": [],
   "source": [
    "# Get events by team\n",
    "home_events = events[events['Team']=='Home']\n",
    "away_events = events[events['Team']=='Away']"
   ]
  },
  {
   "cell_type": "code",
   "execution_count": 13,
   "id": "ccd1ee86",
   "metadata": {},
   "outputs": [
    {
     "name": "stdout",
     "output_type": "stream",
     "text": [
      "Type\n",
      "PASS              543\n",
      "CHALLENGE         160\n",
      "RECOVERY          135\n",
      "BALL LOST         120\n",
      "SET PIECE          34\n",
      "BALL OUT           27\n",
      "SHOT               13\n",
      "FAULT RECEIVED      9\n",
      "CARD                3\n",
      "Name: count, dtype: int64\n",
      "Type\n",
      "PASS              421\n",
      "CHALLENGE         151\n",
      "BALL LOST         113\n",
      "RECOVERY          113\n",
      "SET PIECE          46\n",
      "BALL OUT           22\n",
      "SHOT               11\n",
      "FAULT RECEIVED     11\n",
      "CARD                3\n",
      "Name: count, dtype: int64\n"
     ]
    }
   ],
   "source": [
    "# Frequency of each event type by team\n",
    "print(home_events['Type'].value_counts())\n",
    "print(away_events['Type'].value_counts())"
   ]
  },
  {
   "cell_type": "code",
   "execution_count": 14,
   "id": "56109256",
   "metadata": {},
   "outputs": [],
   "source": [
    "def plot_pitch( field_dimen = (106.0,68.0), field_color ='green', linewidth=2, markersize=20):\n",
    "    fig,ax = plt.subplots(figsize=(12,8)) # create a figure \n",
    "    # decide what color we want the field to be. Default is green, but can also choose white\n",
    "    if field_color=='green':\n",
    "        ax.set_facecolor('mediumseagreen')\n",
    "        lc = 'whitesmoke' # line color\n",
    "        pc = 'w' # 'spot' colors\n",
    "    elif field_color=='white':\n",
    "        lc = 'k'\n",
    "        pc = 'k'\n",
    "    # ALL DIMENSIONS IN m\n",
    "    border_dimen = (3,3) # include a border arround of the field of width 3m\n",
    "    meters_per_yard = 0.9144 # unit conversion from yards to meters\n",
    "    half_pitch_length = field_dimen[0]/2. # length of half pitch\n",
    "    half_pitch_width = field_dimen[1]/2. # width of half pitch\n",
    "    signs = [-1,1] \n",
    "    # Soccer field dimensions typically defined in yards, so we need to convert to meters\n",
    "    goal_line_width = 8*meters_per_yard\n",
    "    box_width = 20*meters_per_yard\n",
    "    box_length = 6*meters_per_yard\n",
    "    area_width = 44*meters_per_yard\n",
    "    area_length = 18*meters_per_yard\n",
    "    penalty_spot = 12*meters_per_yard\n",
    "    corner_radius = 1*meters_per_yard\n",
    "    D_length = 8*meters_per_yard\n",
    "    D_radius = 10*meters_per_yard\n",
    "    D_pos = 12*meters_per_yard\n",
    "    centre_circle_radius = 10*meters_per_yard\n",
    "    # plot half way line # center circle\n",
    "    ax.plot([0,0],[-half_pitch_width,half_pitch_width],lc,linewidth=linewidth)\n",
    "    ax.scatter(0.0,0.0,marker='o',facecolor=lc,linewidth=0,s=markersize)\n",
    "    y = np.linspace(-1,1,50)*centre_circle_radius\n",
    "    x = np.sqrt(centre_circle_radius**2-y**2)\n",
    "    ax.plot(x,y,lc,linewidth=linewidth)\n",
    "    ax.plot(-x,y,lc,linewidth=linewidth)\n",
    "    for s in signs: # plots each line seperately\n",
    "        # plot pitch boundary\n",
    "        ax.plot([-half_pitch_length,half_pitch_length],[s*half_pitch_width,s*half_pitch_width],lc,linewidth=linewidth)\n",
    "        ax.plot([s*half_pitch_length,s*half_pitch_length],[-half_pitch_width,half_pitch_width],lc,linewidth=linewidth)\n",
    "        # goal posts & line\n",
    "        ax.plot( [s*half_pitch_length,s*half_pitch_length],[-goal_line_width/2.,goal_line_width/2.],pc+'s',markersize=6*markersize/20.,linewidth=linewidth)\n",
    "        # 6 yard box\n",
    "        ax.plot([s*half_pitch_length,s*half_pitch_length-s*box_length],[box_width/2.,box_width/2.],lc,linewidth=linewidth)\n",
    "        ax.plot([s*half_pitch_length,s*half_pitch_length-s*box_length],[-box_width/2.,-box_width/2.],lc,linewidth=linewidth)\n",
    "        ax.plot([s*half_pitch_length-s*box_length,s*half_pitch_length-s*box_length],[-box_width/2.,box_width/2.],lc,linewidth=linewidth)\n",
    "        # penalty area\n",
    "        ax.plot([s*half_pitch_length,s*half_pitch_length-s*area_length],[area_width/2.,area_width/2.],lc,linewidth=linewidth)\n",
    "        ax.plot([s*half_pitch_length,s*half_pitch_length-s*area_length],[-area_width/2.,-area_width/2.],lc,linewidth=linewidth)\n",
    "        ax.plot([s*half_pitch_length-s*area_length,s*half_pitch_length-s*area_length],[-area_width/2.,area_width/2.],lc,linewidth=linewidth)\n",
    "        # penalty spot\n",
    "        ax.scatter(s*half_pitch_length-s*penalty_spot,0.0,marker='o',facecolor=lc,linewidth=0,s=markersize)\n",
    "        # corner flags\n",
    "        y = np.linspace(0,1,50)*corner_radius\n",
    "        x = np.sqrt(corner_radius**2-y**2)\n",
    "        ax.plot(s*half_pitch_length-s*x,-half_pitch_width+y,lc,linewidth=linewidth)\n",
    "        ax.plot(s*half_pitch_length-s*x,half_pitch_width-y,lc,linewidth=linewidth)\n",
    "        # draw the D\n",
    "        y = np.linspace(-1,1,50)*D_length # D_length is the chord of the circle that defines the D\n",
    "        x = np.sqrt(D_radius**2-y**2)+D_pos\n",
    "        ax.plot(s*half_pitch_length-s*x,y,lc,linewidth=linewidth)\n",
    "        \n",
    "    # remove axis labels and ticks\n",
    "    ax.set_xticklabels([])\n",
    "    ax.set_yticklabels([])\n",
    "    ax.set_xticks([])\n",
    "    ax.set_yticks([])\n",
    "    # set axis limits\n",
    "    xmax = field_dimen[0]/2. + border_dimen[0]\n",
    "    ymax = field_dimen[1]/2. + border_dimen[1]\n",
    "    ax.set_xlim([-xmax,xmax])\n",
    "    ax.set_ylim([-ymax,ymax])\n",
    "    ax.set_axisbelow(True)\n",
    "    return fig,ax\n"
   ]
  },
  {
   "cell_type": "code",
   "execution_count": 25,
   "id": "8fe957ce",
   "metadata": {},
   "outputs": [
    {
     "data": {
      "image/png": "[encoded data removed]",
      "text/plain": [
       "<Figure size 1200x800 with 1 Axes>"
      ]
     },
     "metadata": {},
     "output_type": "display_data"
    }
   ],
   "source": [
    "fig,ax = plot_pitch()"
   ]
  },
  {
   "cell_type": "code",
   "execution_count": 19,
   "id": "f604f79d",
   "metadata": {},
   "outputs": [
    {
     "data": {
      "text/html": [
       "<div>\n",
       "<style scoped>\n",
       "    .dataframe tbody tr th:only-of-type {\n",
       "        vertical-align: middle;\n",
       "    }\n",
       "\n",
       "    .dataframe tbody tr th {\n",
       "        vertical-align: top;\n",
       "    }\n",
       "\n",
       "    .dataframe thead th {\n",
       "        text-align: right;\n",
       "    }\n",
       "</style>\n",
       "<table border=\"1\" class=\"dataframe\">\n",
       "  <thead>\n",
       "    <tr style=\"text-align: right;\">\n",
       "      <th></th>\n",
       "      <th>Team</th>\n",
       "      <th>Type</th>\n",
       "      <th>Subtype</th>\n",
       "      <th>Period</th>\n",
       "      <th>Start Frame</th>\n",
       "      <th>Start Time [s]</th>\n",
       "      <th>End Frame</th>\n",
       "      <th>End Time [s]</th>\n",
       "      <th>From</th>\n",
       "      <th>To</th>\n",
       "      <th>Start X</th>\n",
       "      <th>Start Y</th>\n",
       "      <th>End X</th>\n",
       "      <th>End Y</th>\n",
       "    </tr>\n",
       "  </thead>\n",
       "  <tbody>\n",
       "    <tr>\n",
       "      <th>0</th>\n",
       "      <td>Away</td>\n",
       "      <td>SET PIECE</td>\n",
       "      <td>KICK OFF</td>\n",
       "      <td>1</td>\n",
       "      <td>51</td>\n",
       "      <td>2.04</td>\n",
       "      <td>51</td>\n",
       "      <td>2.04</td>\n",
       "      <td>Player23</td>\n",
       "      <td>NaN</td>\n",
       "      <td>NaN</td>\n",
       "      <td>NaN</td>\n",
       "      <td>NaN</td>\n",
       "      <td>NaN</td>\n",
       "    </tr>\n",
       "    <tr>\n",
       "      <th>1</th>\n",
       "      <td>Away</td>\n",
       "      <td>PASS</td>\n",
       "      <td>NaN</td>\n",
       "      <td>1</td>\n",
       "      <td>51</td>\n",
       "      <td>2.04</td>\n",
       "      <td>87</td>\n",
       "      <td>3.48</td>\n",
       "      <td>Player23</td>\n",
       "      <td>Player20</td>\n",
       "      <td>0.00</td>\n",
       "      <td>-0.00</td>\n",
       "      <td>-10.60</td>\n",
       "      <td>-0.68</td>\n",
       "    </tr>\n",
       "    <tr>\n",
       "      <th>2</th>\n",
       "      <td>Away</td>\n",
       "      <td>PASS</td>\n",
       "      <td>NaN</td>\n",
       "      <td>1</td>\n",
       "      <td>146</td>\n",
       "      <td>5.84</td>\n",
       "      <td>186</td>\n",
       "      <td>7.44</td>\n",
       "      <td>Player20</td>\n",
       "      <td>Player18</td>\n",
       "      <td>-7.42</td>\n",
       "      <td>-0.00</td>\n",
       "      <td>-6.36</td>\n",
       "      <td>19.04</td>\n",
       "    </tr>\n",
       "    <tr>\n",
       "      <th>3</th>\n",
       "      <td>Away</td>\n",
       "      <td>PASS</td>\n",
       "      <td>NaN</td>\n",
       "      <td>1</td>\n",
       "      <td>248</td>\n",
       "      <td>9.92</td>\n",
       "      <td>283</td>\n",
       "      <td>11.32</td>\n",
       "      <td>Player18</td>\n",
       "      <td>Player17</td>\n",
       "      <td>-3.18</td>\n",
       "      <td>21.08</td>\n",
       "      <td>-20.14</td>\n",
       "      <td>14.96</td>\n",
       "    </tr>\n",
       "    <tr>\n",
       "      <th>4</th>\n",
       "      <td>Away</td>\n",
       "      <td>PASS</td>\n",
       "      <td>NaN</td>\n",
       "      <td>1</td>\n",
       "      <td>316</td>\n",
       "      <td>12.64</td>\n",
       "      <td>346</td>\n",
       "      <td>13.84</td>\n",
       "      <td>Player17</td>\n",
       "      <td>Player16</td>\n",
       "      <td>-22.26</td>\n",
       "      <td>12.24</td>\n",
       "      <td>-25.44</td>\n",
       "      <td>-5.44</td>\n",
       "    </tr>\n",
       "  </tbody>\n",
       "</table>\n",
       "</div>"
      ],
      "text/plain": [
       "   Team       Type   Subtype  Period  Start Frame  Start Time [s]  End Frame  \\\n",
       "0  Away  SET PIECE  KICK OFF       1           51            2.04         51   \n",
       "1  Away       PASS       NaN       1           51            2.04         87   \n",
       "2  Away       PASS       NaN       1          146            5.84        186   \n",
       "3  Away       PASS       NaN       1          248            9.92        283   \n",
       "4  Away       PASS       NaN       1          316           12.64        346   \n",
       "\n",
       "   End Time [s]      From        To  Start X  Start Y  End X  End Y  \n",
       "0          2.04  Player23       NaN      NaN      NaN    NaN    NaN  \n",
       "1          3.48  Player23  Player20     0.00    -0.00 -10.60  -0.68  \n",
       "2          7.44  Player20  Player18    -7.42    -0.00  -6.36  19.04  \n",
       "3         11.32  Player18  Player17    -3.18    21.08 -20.14  14.96  \n",
       "4         13.84  Player17  Player16   -22.26    12.24 -25.44  -5.44  "
      ]
     },
     "execution_count": 19,
     "metadata": {},
     "output_type": "execute_result"
    }
   ],
   "source": [
    "events.head()"
   ]
  },
  {
   "cell_type": "code",
   "execution_count": 20,
   "id": "77f26659",
   "metadata": {},
   "outputs": [],
   "source": [
    "# Get all shots\n",
    "shots = events[events['Type']=='SHOT']\n",
    "home_shots = home_events[home_events.Type=='SHOT']\n",
    "away_shots = away_events[away_events.Type=='SHOT']"
   ]
  },
  {
   "cell_type": "code",
   "execution_count": 21,
   "id": "ecd7c45a",
   "metadata": {},
   "outputs": [],
   "source": [
    "# Get the shots that led to a goal\n",
    "home_goals = home_shots[home_shots['Subtype'].str.contains('-GOAL')].copy()\n",
    "away_goals = away_shots[away_shots['Subtype'].str.contains('-GOAL')].copy()"
   ]
  },
  {
   "cell_type": "code",
   "execution_count": 22,
   "id": "66cd4a2a",
   "metadata": {},
   "outputs": [
    {
     "data": {
      "text/html": [
       "<div>\n",
       "<style scoped>\n",
       "    .dataframe tbody tr th:only-of-type {\n",
       "        vertical-align: middle;\n",
       "    }\n",
       "\n",
       "    .dataframe tbody tr th {\n",
       "        vertical-align: top;\n",
       "    }\n",
       "\n",
       "    .dataframe thead th {\n",
       "        text-align: right;\n",
       "    }\n",
       "</style>\n",
       "<table border=\"1\" class=\"dataframe\">\n",
       "  <thead>\n",
       "    <tr style=\"text-align: right;\">\n",
       "      <th></th>\n",
       "      <th>Team</th>\n",
       "      <th>Type</th>\n",
       "      <th>Subtype</th>\n",
       "      <th>Period</th>\n",
       "      <th>Start Frame</th>\n",
       "      <th>Start Time [s]</th>\n",
       "      <th>End Frame</th>\n",
       "      <th>End Time [s]</th>\n",
       "      <th>From</th>\n",
       "      <th>To</th>\n",
       "      <th>Start X</th>\n",
       "      <th>Start Y</th>\n",
       "      <th>End X</th>\n",
       "      <th>End Y</th>\n",
       "    </tr>\n",
       "  </thead>\n",
       "  <tbody>\n",
       "    <tr>\n",
       "      <th>198</th>\n",
       "      <td>Home</td>\n",
       "      <td>SHOT</td>\n",
       "      <td>ON TARGET-GOAL</td>\n",
       "      <td>1</td>\n",
       "      <td>12202</td>\n",
       "      <td>488.08</td>\n",
       "      <td>12212</td>\n",
       "      <td>488.48</td>\n",
       "      <td>Player10</td>\n",
       "      <td>NaN</td>\n",
       "      <td>-47.70</td>\n",
       "      <td>-3.40</td>\n",
       "      <td>-54.06</td>\n",
       "      <td>-2.04</td>\n",
       "    </tr>\n",
       "    <tr>\n",
       "      <th>1118</th>\n",
       "      <td>Home</td>\n",
       "      <td>SHOT</td>\n",
       "      <td>HEAD-ON TARGET-GOAL</td>\n",
       "      <td>2</td>\n",
       "      <td>73983</td>\n",
       "      <td>2959.32</td>\n",
       "      <td>73995</td>\n",
       "      <td>2959.80</td>\n",
       "      <td>Player9</td>\n",
       "      <td>NaN</td>\n",
       "      <td>47.70</td>\n",
       "      <td>-1.36</td>\n",
       "      <td>54.06</td>\n",
       "      <td>-2.04</td>\n",
       "    </tr>\n",
       "    <tr>\n",
       "      <th>1723</th>\n",
       "      <td>Home</td>\n",
       "      <td>SHOT</td>\n",
       "      <td>ON TARGET-GOAL</td>\n",
       "      <td>2</td>\n",
       "      <td>121027</td>\n",
       "      <td>4841.08</td>\n",
       "      <td>121055</td>\n",
       "      <td>4842.20</td>\n",
       "      <td>Player12</td>\n",
       "      <td>NaN</td>\n",
       "      <td>30.74</td>\n",
       "      <td>-5.44</td>\n",
       "      <td>54.06</td>\n",
       "      <td>-2.72</td>\n",
       "    </tr>\n",
       "  </tbody>\n",
       "</table>\n",
       "</div>"
      ],
      "text/plain": [
       "      Team  Type              Subtype  Period  Start Frame  Start Time [s]  \\\n",
       "198   Home  SHOT       ON TARGET-GOAL       1        12202          488.08   \n",
       "1118  Home  SHOT  HEAD-ON TARGET-GOAL       2        73983         2959.32   \n",
       "1723  Home  SHOT       ON TARGET-GOAL       2       121027         4841.08   \n",
       "\n",
       "      End Frame  End Time [s]      From   To  Start X  Start Y  End X  End Y  \n",
       "198       12212        488.48  Player10  NaN   -47.70    -3.40 -54.06  -2.04  \n",
       "1118      73995       2959.80   Player9  NaN    47.70    -1.36  54.06  -2.04  \n",
       "1723     121055       4842.20  Player12  NaN    30.74    -5.44  54.06  -2.72  "
      ]
     },
     "execution_count": 22,
     "metadata": {},
     "output_type": "execute_result"
    }
   ],
   "source": [
    "home_goals"
   ]
  },
  {
   "cell_type": "code",
   "execution_count": 116,
   "id": "384f831a",
   "metadata": {},
   "outputs": [
    {
     "data": {
      "text/html": [
       "<div>\n",
       "<style scoped>\n",
       "    .dataframe tbody tr th:only-of-type {\n",
       "        vertical-align: middle;\n",
       "    }\n",
       "\n",
       "    .dataframe tbody tr th {\n",
       "        vertical-align: top;\n",
       "    }\n",
       "\n",
       "    .dataframe thead th {\n",
       "        text-align: right;\n",
       "    }\n",
       "</style>\n",
       "<table border=\"1\" class=\"dataframe\">\n",
       "  <thead>\n",
       "    <tr style=\"text-align: right;\">\n",
       "      <th></th>\n",
       "      <th>Team</th>\n",
       "      <th>Type</th>\n",
       "      <th>Subtype</th>\n",
       "      <th>Period</th>\n",
       "      <th>Start Frame</th>\n",
       "      <th>Start Time [s]</th>\n",
       "      <th>End Frame</th>\n",
       "      <th>End Time [s]</th>\n",
       "      <th>From</th>\n",
       "      <th>To</th>\n",
       "      <th>Start X</th>\n",
       "      <th>Start Y</th>\n",
       "      <th>End X</th>\n",
       "      <th>End Y</th>\n",
       "    </tr>\n",
       "  </thead>\n",
       "  <tbody>\n",
       "    <tr>\n",
       "      <th>823</th>\n",
       "      <td>Away</td>\n",
       "      <td>SHOT</td>\n",
       "      <td>ON TARGET-GOAL</td>\n",
       "      <td>1</td>\n",
       "      <td>53049</td>\n",
       "      <td>2121.96</td>\n",
       "      <td>53075</td>\n",
       "      <td>2123.00</td>\n",
       "      <td>Player24</td>\n",
       "      <td>NaN</td>\n",
       "      <td>44.52</td>\n",
       "      <td>2.72</td>\n",
       "      <td>54.06</td>\n",
       "      <td>1.36</td>\n",
       "    </tr>\n",
       "    <tr>\n",
       "      <th>1671</th>\n",
       "      <td>Away</td>\n",
       "      <td>SHOT</td>\n",
       "      <td>ON TARGET-GOAL</td>\n",
       "      <td>2</td>\n",
       "      <td>115009</td>\n",
       "      <td>4600.36</td>\n",
       "      <td>115024</td>\n",
       "      <td>4600.96</td>\n",
       "      <td>Player20</td>\n",
       "      <td>NaN</td>\n",
       "      <td>-40.28</td>\n",
       "      <td>-1.36</td>\n",
       "      <td>-55.12</td>\n",
       "      <td>-2.72</td>\n",
       "    </tr>\n",
       "  </tbody>\n",
       "</table>\n",
       "</div>"
      ],
      "text/plain": [
       "      Team  Type         Subtype  Period  Start Frame  Start Time [s]  \\\n",
       "823   Away  SHOT  ON TARGET-GOAL       1        53049         2121.96   \n",
       "1671  Away  SHOT  ON TARGET-GOAL       2       115009         4600.36   \n",
       "\n",
       "      End Frame  End Time [s]      From   To  Start X  Start Y  End X  End Y  \n",
       "823       53075       2123.00  Player24  NaN    44.52     2.72  54.06   1.36  \n",
       "1671     115024       4600.96  Player20  NaN   -40.28    -1.36 -55.12  -2.72  "
      ]
     },
     "execution_count": 116,
     "metadata": {},
     "output_type": "execute_result"
    }
   ],
   "source": [
    "away_goals"
   ]
  },
  {
   "cell_type": "code",
   "execution_count": 121,
   "id": "b2583766",
   "metadata": {},
   "outputs": [],
   "source": [
    "ax.annotate?"
   ]
  },
  {
   "cell_type": "code",
   "execution_count": 117,
   "id": "7105a18a",
   "metadata": {},
   "outputs": [
    {
     "data": {
      "text/plain": [
       "End X   -54.06\n",
       "End Y    -2.04\n",
       "Name: 198, dtype: object"
      ]
     },
     "execution_count": 117,
     "metadata": {},
     "output_type": "execute_result"
    }
   ],
   "source": [
    "events.loc[198][['End X','End Y']]"
   ]
  },
  {
   "cell_type": "code",
   "execution_count": 118,
   "id": "805e424b",
   "metadata": {},
   "outputs": [
    {
     "data": {
      "text/plain": [
       "Start X   -47.7\n",
       "Start Y    -3.4\n",
       "Name: 198, dtype: object"
      ]
     },
     "execution_count": 118,
     "metadata": {},
     "output_type": "execute_result"
    }
   ],
   "source": [
    "events.loc[198][['Start X','Start Y']]"
   ]
  },
  {
   "cell_type": "code",
   "execution_count": 29,
   "id": "0772cef2",
   "metadata": {},
   "outputs": [
    {
     "data": {
      "text/plain": [
       "Text(-47.7, -3.400000000000003, '')"
      ]
     },
     "execution_count": 29,
     "metadata": {},
     "output_type": "execute_result"
    },
    {
     "data": {
      "image/png": "[encoded data removed]",
      "text/plain": [
       "<Figure size 1200x800 with 1 Axes>"
      ]
     },
     "metadata": {},
     "output_type": "display_data"
    }
   ],
   "source": [
    "# Plot the first goal\n",
    "fig,ax = plot_pitch()\n",
    "ax.plot( events.loc[198]['Start X'], events.loc[198]['Start Y'], 'ro' )\n",
    "ax.annotate(\"\", xy=events.loc[198][['End X','End Y']], xytext=events.loc[198][['Start X','Start Y']], alpha=0.6, arrowprops=dict(arrowstyle=\"->\",color='r'))\n"
   ]
  },
  {
   "cell_type": "code",
   "execution_count": 39,
   "id": "44f03e6e",
   "metadata": {},
   "outputs": [
    {
     "data": {
      "text/plain": [
       "<bound method DataFrame.iterrows of       Team       Type       Subtype  Period  Start Frame  Start Time [s]  \\\n",
       "0     Away  SET PIECE      KICK OFF       1           51            2.04   \n",
       "1     Away       PASS           NaN       1           51            2.04   \n",
       "2     Away       PASS           NaN       1          146            5.84   \n",
       "3     Away       PASS           NaN       1          248            9.92   \n",
       "4     Away       PASS           NaN       1          316           12.64   \n",
       "...    ...        ...           ...     ...          ...             ...   \n",
       "1930  Away  BALL LOST  INTERCEPTION       2       140122         5604.88   \n",
       "1931  Home  CHALLENGE   AERIAL-LOST       2       140180         5607.20   \n",
       "1932  Away  CHALLENGE   AERIAL-LOST       2       140183         5607.32   \n",
       "1933  Home   RECOVERY           NaN       2       140211         5608.44   \n",
       "1934  Home   BALL OUT     CLEARANCE       2       140265         5610.60   \n",
       "\n",
       "      End Frame  End Time [s]      From        To  Start X  Start Y  End X  \\\n",
       "0            51          2.04  Player23       NaN      NaN      NaN    NaN   \n",
       "1            87          3.48  Player23  Player20     0.00    -0.00 -10.60   \n",
       "2           186          7.44  Player20  Player18    -7.42    -0.00  -6.36   \n",
       "3           283         11.32  Player18  Player17    -3.18    21.08 -20.14   \n",
       "4           346         13.84  Player17  Player16   -22.26    12.24 -25.44   \n",
       "...         ...           ...       ...       ...      ...      ...    ...   \n",
       "1930     140183       5607.32  Player21       NaN     4.24   -18.36 -22.26   \n",
       "1931     140180       5607.20   Player1       NaN   -20.14    13.60    NaN   \n",
       "1932     140183       5607.32  Player24       NaN   -19.08    13.60    NaN   \n",
       "1933     140211       5608.44  Player12       NaN   -16.96    12.24    NaN   \n",
       "1934     140298       5611.92  Player12       NaN   -18.02    23.12  -9.54   \n",
       "\n",
       "      End Y  \n",
       "0       NaN  \n",
       "1     -0.68  \n",
       "2     19.04  \n",
       "3     14.96  \n",
       "4     -5.44  \n",
       "...     ...  \n",
       "1930  17.68  \n",
       "1931    NaN  \n",
       "1932    NaN  \n",
       "1933    NaN  \n",
       "1934  36.72  \n",
       "\n",
       "[1935 rows x 14 columns]>"
      ]
     },
     "execution_count": 39,
     "metadata": {},
     "output_type": "execute_result"
    }
   ],
   "source": [
    "events.iterrows"
   ]
  },
  {
   "cell_type": "code",
   "execution_count": 37,
   "id": "110a912d",
   "metadata": {},
   "outputs": [
    {
     "data": {
      "text/plain": [
       "<generator object DataFrame.iterrows at 0x124ddadc0>"
      ]
     },
     "execution_count": 37,
     "metadata": {},
     "output_type": "execute_result"
    }
   ],
   "source": [
    "df"
   ]
  },
  {
   "cell_type": "code",
   "execution_count": 50,
   "id": "bc385015",
   "metadata": {},
   "outputs": [],
   "source": [
    "def plot_events( events, figax=None, field_dimen = (106.0,68), indicators = ['Marker','Arrow'], color='r', marker_style = 'o', alpha = 0.5, annotate=False):\n",
    "    \n",
    "    fig,ax = plot_pitch( field_dimen = field_dimen )\n",
    "    \n",
    "    for i,row in events.iterrows():\n",
    "        if 'Marker' in indicators:\n",
    "            ax.plot(  row['Start X'], row['Start Y'],color+marker_style,alpha=alpha )\n",
    "        if 'Arrow' in indicators:\n",
    "            ax.annotate(\"\", xy=row[['End X','End Y']], xytext=row[['Start X','Start Y']], alpha=alpha, arrowprops=dict(alpha=alpha,width=0.5,headlength=4.0,headwidth=4.0,color=color),annotation_clip=True)\n",
    "    return fig,ax"
   ]
  },
  {
   "cell_type": "code",
   "execution_count": 124,
   "id": "de6ab14a",
   "metadata": {},
   "outputs": [
    {
     "data": {
      "text/html": [
       "<div>\n",
       "<style scoped>\n",
       "    .dataframe tbody tr th:only-of-type {\n",
       "        vertical-align: middle;\n",
       "    }\n",
       "\n",
       "    .dataframe tbody tr th {\n",
       "        vertical-align: top;\n",
       "    }\n",
       "\n",
       "    .dataframe thead th {\n",
       "        text-align: right;\n",
       "    }\n",
       "</style>\n",
       "<table border=\"1\" class=\"dataframe\">\n",
       "  <thead>\n",
       "    <tr style=\"text-align: right;\">\n",
       "      <th></th>\n",
       "      <th>Team</th>\n",
       "      <th>Type</th>\n",
       "      <th>Subtype</th>\n",
       "      <th>Period</th>\n",
       "      <th>Start Frame</th>\n",
       "      <th>Start Time [s]</th>\n",
       "      <th>End Frame</th>\n",
       "      <th>End Time [s]</th>\n",
       "      <th>From</th>\n",
       "      <th>To</th>\n",
       "      <th>Start X</th>\n",
       "      <th>Start Y</th>\n",
       "      <th>End X</th>\n",
       "      <th>End Y</th>\n",
       "    </tr>\n",
       "  </thead>\n",
       "  <tbody>\n",
       "    <tr>\n",
       "      <th>180</th>\n",
       "      <td>Home</td>\n",
       "      <td>PASS</td>\n",
       "      <td>NaN</td>\n",
       "      <td>1</td>\n",
       "      <td>11275</td>\n",
       "      <td>451.00</td>\n",
       "      <td>11318</td>\n",
       "      <td>452.72</td>\n",
       "      <td>Player4</td>\n",
       "      <td>Player8</td>\n",
       "      <td>-11.66</td>\n",
       "      <td>-8.16</td>\n",
       "      <td>-22.26</td>\n",
       "      <td>-31.96</td>\n",
       "    </tr>\n",
       "    <tr>\n",
       "      <th>181</th>\n",
       "      <td>Home</td>\n",
       "      <td>PASS</td>\n",
       "      <td>NaN</td>\n",
       "      <td>1</td>\n",
       "      <td>11387</td>\n",
       "      <td>455.48</td>\n",
       "      <td>11417</td>\n",
       "      <td>456.68</td>\n",
       "      <td>Player8</td>\n",
       "      <td>Player4</td>\n",
       "      <td>-26.50</td>\n",
       "      <td>-29.92</td>\n",
       "      <td>-19.08</td>\n",
       "      <td>-23.12</td>\n",
       "    </tr>\n",
       "    <tr>\n",
       "      <th>182</th>\n",
       "      <td>Home</td>\n",
       "      <td>BALL LOST</td>\n",
       "      <td>INTERCEPTION</td>\n",
       "      <td>1</td>\n",
       "      <td>11441</td>\n",
       "      <td>457.64</td>\n",
       "      <td>11476</td>\n",
       "      <td>459.04</td>\n",
       "      <td>Player4</td>\n",
       "      <td>NaN</td>\n",
       "      <td>-19.08</td>\n",
       "      <td>-22.44</td>\n",
       "      <td>-28.62</td>\n",
       "      <td>14.28</td>\n",
       "    </tr>\n",
       "    <tr>\n",
       "      <th>183</th>\n",
       "      <td>Away</td>\n",
       "      <td>RECOVERY</td>\n",
       "      <td>INTERCEPTION</td>\n",
       "      <td>1</td>\n",
       "      <td>11478</td>\n",
       "      <td>459.12</td>\n",
       "      <td>11478</td>\n",
       "      <td>459.12</td>\n",
       "      <td>Player22</td>\n",
       "      <td>NaN</td>\n",
       "      <td>-27.56</td>\n",
       "      <td>10.88</td>\n",
       "      <td>NaN</td>\n",
       "      <td>NaN</td>\n",
       "    </tr>\n",
       "    <tr>\n",
       "      <th>184</th>\n",
       "      <td>Home</td>\n",
       "      <td>CHALLENGE</td>\n",
       "      <td>GROUND-LOST</td>\n",
       "      <td>1</td>\n",
       "      <td>11517</td>\n",
       "      <td>460.68</td>\n",
       "      <td>11517</td>\n",
       "      <td>460.68</td>\n",
       "      <td>Player5</td>\n",
       "      <td>NaN</td>\n",
       "      <td>-26.50</td>\n",
       "      <td>6.80</td>\n",
       "      <td>NaN</td>\n",
       "      <td>NaN</td>\n",
       "    </tr>\n",
       "    <tr>\n",
       "      <th>185</th>\n",
       "      <td>Away</td>\n",
       "      <td>CHALLENGE</td>\n",
       "      <td>GROUND-WON</td>\n",
       "      <td>1</td>\n",
       "      <td>11519</td>\n",
       "      <td>460.76</td>\n",
       "      <td>11519</td>\n",
       "      <td>460.76</td>\n",
       "      <td>Player22</td>\n",
       "      <td>NaN</td>\n",
       "      <td>-27.56</td>\n",
       "      <td>7.48</td>\n",
       "      <td>NaN</td>\n",
       "      <td>NaN</td>\n",
       "    </tr>\n",
       "    <tr>\n",
       "      <th>186</th>\n",
       "      <td>Away</td>\n",
       "      <td>CHALLENGE</td>\n",
       "      <td>TACKLE-LOST</td>\n",
       "      <td>1</td>\n",
       "      <td>11534</td>\n",
       "      <td>461.36</td>\n",
       "      <td>11534</td>\n",
       "      <td>461.36</td>\n",
       "      <td>Player22</td>\n",
       "      <td>NaN</td>\n",
       "      <td>-26.50</td>\n",
       "      <td>6.12</td>\n",
       "      <td>NaN</td>\n",
       "      <td>NaN</td>\n",
       "    </tr>\n",
       "    <tr>\n",
       "      <th>187</th>\n",
       "      <td>Away</td>\n",
       "      <td>BALL LOST</td>\n",
       "      <td>THEFT</td>\n",
       "      <td>1</td>\n",
       "      <td>11534</td>\n",
       "      <td>461.36</td>\n",
       "      <td>11534</td>\n",
       "      <td>461.36</td>\n",
       "      <td>Player22</td>\n",
       "      <td>NaN</td>\n",
       "      <td>-26.50</td>\n",
       "      <td>6.12</td>\n",
       "      <td>NaN</td>\n",
       "      <td>NaN</td>\n",
       "    </tr>\n",
       "    <tr>\n",
       "      <th>188</th>\n",
       "      <td>Home</td>\n",
       "      <td>CHALLENGE</td>\n",
       "      <td>TACKLE-WON</td>\n",
       "      <td>1</td>\n",
       "      <td>11641</td>\n",
       "      <td>465.64</td>\n",
       "      <td>11641</td>\n",
       "      <td>465.64</td>\n",
       "      <td>Player7</td>\n",
       "      <td>NaN</td>\n",
       "      <td>-13.78</td>\n",
       "      <td>-0.68</td>\n",
       "      <td>NaN</td>\n",
       "      <td>NaN</td>\n",
       "    </tr>\n",
       "    <tr>\n",
       "      <th>189</th>\n",
       "      <td>Home</td>\n",
       "      <td>RECOVERY</td>\n",
       "      <td>THEFT</td>\n",
       "      <td>1</td>\n",
       "      <td>11641</td>\n",
       "      <td>465.64</td>\n",
       "      <td>11641</td>\n",
       "      <td>465.64</td>\n",
       "      <td>Player7</td>\n",
       "      <td>NaN</td>\n",
       "      <td>-13.78</td>\n",
       "      <td>-0.68</td>\n",
       "      <td>NaN</td>\n",
       "      <td>NaN</td>\n",
       "    </tr>\n",
       "    <tr>\n",
       "      <th>190</th>\n",
       "      <td>Home</td>\n",
       "      <td>PASS</td>\n",
       "      <td>NaN</td>\n",
       "      <td>1</td>\n",
       "      <td>11647</td>\n",
       "      <td>465.88</td>\n",
       "      <td>11685</td>\n",
       "      <td>467.40</td>\n",
       "      <td>Player7</td>\n",
       "      <td>Player10</td>\n",
       "      <td>-13.78</td>\n",
       "      <td>-0.68</td>\n",
       "      <td>-21.20</td>\n",
       "      <td>-0.00</td>\n",
       "    </tr>\n",
       "    <tr>\n",
       "      <th>191</th>\n",
       "      <td>Home</td>\n",
       "      <td>PASS</td>\n",
       "      <td>NaN</td>\n",
       "      <td>1</td>\n",
       "      <td>11685</td>\n",
       "      <td>467.40</td>\n",
       "      <td>11703</td>\n",
       "      <td>468.12</td>\n",
       "      <td>Player10</td>\n",
       "      <td>Player5</td>\n",
       "      <td>-21.20</td>\n",
       "      <td>-0.00</td>\n",
       "      <td>-18.02</td>\n",
       "      <td>4.08</td>\n",
       "    </tr>\n",
       "    <tr>\n",
       "      <th>192</th>\n",
       "      <td>Home</td>\n",
       "      <td>PASS</td>\n",
       "      <td>NaN</td>\n",
       "      <td>1</td>\n",
       "      <td>11721</td>\n",
       "      <td>468.84</td>\n",
       "      <td>11744</td>\n",
       "      <td>469.76</td>\n",
       "      <td>Player5</td>\n",
       "      <td>Player9</td>\n",
       "      <td>-20.14</td>\n",
       "      <td>4.08</td>\n",
       "      <td>-30.74</td>\n",
       "      <td>7.48</td>\n",
       "    </tr>\n",
       "    <tr>\n",
       "      <th>193</th>\n",
       "      <td>Home</td>\n",
       "      <td>PASS</td>\n",
       "      <td>NaN</td>\n",
       "      <td>1</td>\n",
       "      <td>11810</td>\n",
       "      <td>472.40</td>\n",
       "      <td>11885</td>\n",
       "      <td>475.40</td>\n",
       "      <td>Player9</td>\n",
       "      <td>Player8</td>\n",
       "      <td>-32.86</td>\n",
       "      <td>0.68</td>\n",
       "      <td>-39.22</td>\n",
       "      <td>-25.16</td>\n",
       "    </tr>\n",
       "    <tr>\n",
       "      <th>194</th>\n",
       "      <td>Home</td>\n",
       "      <td>PASS</td>\n",
       "      <td>NaN</td>\n",
       "      <td>1</td>\n",
       "      <td>11958</td>\n",
       "      <td>478.32</td>\n",
       "      <td>11976</td>\n",
       "      <td>479.04</td>\n",
       "      <td>Player8</td>\n",
       "      <td>Player9</td>\n",
       "      <td>-41.34</td>\n",
       "      <td>-24.48</td>\n",
       "      <td>-42.40</td>\n",
       "      <td>-14.96</td>\n",
       "    </tr>\n",
       "    <tr>\n",
       "      <th>195</th>\n",
       "      <td>Home</td>\n",
       "      <td>PASS</td>\n",
       "      <td>NaN</td>\n",
       "      <td>1</td>\n",
       "      <td>11976</td>\n",
       "      <td>479.04</td>\n",
       "      <td>11994</td>\n",
       "      <td>479.76</td>\n",
       "      <td>Player9</td>\n",
       "      <td>Player8</td>\n",
       "      <td>-42.40</td>\n",
       "      <td>-14.96</td>\n",
       "      <td>-38.16</td>\n",
       "      <td>-20.40</td>\n",
       "    </tr>\n",
       "    <tr>\n",
       "      <th>196</th>\n",
       "      <td>Home</td>\n",
       "      <td>PASS</td>\n",
       "      <td>NaN</td>\n",
       "      <td>1</td>\n",
       "      <td>12069</td>\n",
       "      <td>482.76</td>\n",
       "      <td>12146</td>\n",
       "      <td>485.84</td>\n",
       "      <td>Player8</td>\n",
       "      <td>Player1</td>\n",
       "      <td>-28.62</td>\n",
       "      <td>-7.48</td>\n",
       "      <td>-37.10</td>\n",
       "      <td>23.80</td>\n",
       "    </tr>\n",
       "    <tr>\n",
       "      <th>197</th>\n",
       "      <td>Home</td>\n",
       "      <td>PASS</td>\n",
       "      <td>CROSS</td>\n",
       "      <td>1</td>\n",
       "      <td>12180</td>\n",
       "      <td>487.20</td>\n",
       "      <td>12202</td>\n",
       "      <td>488.08</td>\n",
       "      <td>Player1</td>\n",
       "      <td>Player10</td>\n",
       "      <td>-40.28</td>\n",
       "      <td>19.72</td>\n",
       "      <td>-47.70</td>\n",
       "      <td>-3.40</td>\n",
       "    </tr>\n",
       "    <tr>\n",
       "      <th>198</th>\n",
       "      <td>Home</td>\n",
       "      <td>SHOT</td>\n",
       "      <td>ON TARGET-GOAL</td>\n",
       "      <td>1</td>\n",
       "      <td>12202</td>\n",
       "      <td>488.08</td>\n",
       "      <td>12212</td>\n",
       "      <td>488.48</td>\n",
       "      <td>Player10</td>\n",
       "      <td>NaN</td>\n",
       "      <td>-47.70</td>\n",
       "      <td>-3.40</td>\n",
       "      <td>-54.06</td>\n",
       "      <td>-2.04</td>\n",
       "    </tr>\n",
       "  </tbody>\n",
       "</table>\n",
       "</div>"
      ],
      "text/plain": [
       "     Team       Type         Subtype  Period  Start Frame  Start Time [s]  \\\n",
       "180  Home       PASS             NaN       1        11275          451.00   \n",
       "181  Home       PASS             NaN       1        11387          455.48   \n",
       "182  Home  BALL LOST    INTERCEPTION       1        11441          457.64   \n",
       "183  Away   RECOVERY    INTERCEPTION       1        11478          459.12   \n",
       "184  Home  CHALLENGE     GROUND-LOST       1        11517          460.68   \n",
       "185  Away  CHALLENGE      GROUND-WON       1        11519          460.76   \n",
       "186  Away  CHALLENGE     TACKLE-LOST       1        11534          461.36   \n",
       "187  Away  BALL LOST           THEFT       1        11534          461.36   \n",
       "188  Home  CHALLENGE      TACKLE-WON       1        11641          465.64   \n",
       "189  Home   RECOVERY           THEFT       1        11641          465.64   \n",
       "190  Home       PASS             NaN       1        11647          465.88   \n",
       "191  Home       PASS             NaN       1        11685          467.40   \n",
       "192  Home       PASS             NaN       1        11721          468.84   \n",
       "193  Home       PASS             NaN       1        11810          472.40   \n",
       "194  Home       PASS             NaN       1        11958          478.32   \n",
       "195  Home       PASS             NaN       1        11976          479.04   \n",
       "196  Home       PASS             NaN       1        12069          482.76   \n",
       "197  Home       PASS           CROSS       1        12180          487.20   \n",
       "198  Home       SHOT  ON TARGET-GOAL       1        12202          488.08   \n",
       "\n",
       "     End Frame  End Time [s]      From        To  Start X  Start Y  End X  \\\n",
       "180      11318        452.72   Player4   Player8   -11.66    -8.16 -22.26   \n",
       "181      11417        456.68   Player8   Player4   -26.50   -29.92 -19.08   \n",
       "182      11476        459.04   Player4       NaN   -19.08   -22.44 -28.62   \n",
       "183      11478        459.12  Player22       NaN   -27.56    10.88    NaN   \n",
       "184      11517        460.68   Player5       NaN   -26.50     6.80    NaN   \n",
       "185      11519        460.76  Player22       NaN   -27.56     7.48    NaN   \n",
       "186      11534        461.36  Player22       NaN   -26.50     6.12    NaN   \n",
       "187      11534        461.36  Player22       NaN   -26.50     6.12    NaN   \n",
       "188      11641        465.64   Player7       NaN   -13.78    -0.68    NaN   \n",
       "189      11641        465.64   Player7       NaN   -13.78    -0.68    NaN   \n",
       "190      11685        467.40   Player7  Player10   -13.78    -0.68 -21.20   \n",
       "191      11703        468.12  Player10   Player5   -21.20    -0.00 -18.02   \n",
       "192      11744        469.76   Player5   Player9   -20.14     4.08 -30.74   \n",
       "193      11885        475.40   Player9   Player8   -32.86     0.68 -39.22   \n",
       "194      11976        479.04   Player8   Player9   -41.34   -24.48 -42.40   \n",
       "195      11994        479.76   Player9   Player8   -42.40   -14.96 -38.16   \n",
       "196      12146        485.84   Player8   Player1   -28.62    -7.48 -37.10   \n",
       "197      12202        488.08   Player1  Player10   -40.28    19.72 -47.70   \n",
       "198      12212        488.48  Player10       NaN   -47.70    -3.40 -54.06   \n",
       "\n",
       "     End Y  \n",
       "180 -31.96  \n",
       "181 -23.12  \n",
       "182  14.28  \n",
       "183    NaN  \n",
       "184    NaN  \n",
       "185    NaN  \n",
       "186    NaN  \n",
       "187    NaN  \n",
       "188    NaN  \n",
       "189    NaN  \n",
       "190  -0.00  \n",
       "191   4.08  \n",
       "192   7.48  \n",
       "193 -25.16  \n",
       "194 -14.96  \n",
       "195 -20.40  \n",
       "196  23.80  \n",
       "197  -3.40  \n",
       "198  -2.04  "
      ]
     },
     "execution_count": 124,
     "metadata": {},
     "output_type": "execute_result"
    }
   ],
   "source": [
    "events.loc[180:198]"
   ]
  },
  {
   "cell_type": "code",
   "execution_count": 125,
   "id": "3c78e062",
   "metadata": {},
   "outputs": [
    {
     "data": {
      "text/plain": [
       "(<Figure size 1200x800 with 1 Axes>, <Axes: >)"
      ]
     },
     "execution_count": 125,
     "metadata": {},
     "output_type": "execute_result"
    },
    {
     "data": {
      "image/png": "[encoded data removed]",
      "text/plain": [
       "<Figure size 1200x800 with 1 Axes>"
      ]
     },
     "metadata": {},
     "output_type": "display_data"
    }
   ],
   "source": [
    "# plot passing move in run up to goal\n",
    "plot_events( events.loc[189:198], indicators = ['Marker','Arrow'] )"
   ]
  },
  {
   "cell_type": "code",
   "execution_count": 58,
   "id": "88c7ed98",
   "metadata": {},
   "outputs": [],
   "source": [
    "teamfile = '/Sample_Game_%d/Sample_Game_%d_RawTrackingData_%s_Team.csv' % (game_id,game_id,'Home')"
   ]
  },
  {
   "cell_type": "code",
   "execution_count": 70,
   "id": "1a78ae6e",
   "metadata": {},
   "outputs": [],
   "source": [
    "csvfile =  open('{}/{}'.format(DATADIR, teamfile), 'r')"
   ]
  },
  {
   "cell_type": "code",
   "execution_count": 71,
   "id": "c3c62cba",
   "metadata": {},
   "outputs": [],
   "source": [
    "reader = csv.reader(csvfile)"
   ]
  },
  {
   "cell_type": "code",
   "execution_count": 72,
   "id": "f3b0e942",
   "metadata": {},
   "outputs": [
    {
     "data": {
      "text/plain": [
       "'home'"
      ]
     },
     "execution_count": 72,
     "metadata": {},
     "output_type": "execute_result"
    }
   ],
   "source": [
    "next(reader)[3].lower()"
   ]
  },
  {
   "cell_type": "code",
   "execution_count": 74,
   "id": "3588a191",
   "metadata": {},
   "outputs": [],
   "source": [
    "csvfile =  open('{}/{}'.format(DATADIR, teamfile), 'r') # create a csv file reader\n",
    "reader = csv.reader(csvfile) \n",
    "teamnamefull = next(reader)[3].lower()"
   ]
  },
  {
   "cell_type": "code",
   "execution_count": 75,
   "id": "f6ddac1e",
   "metadata": {},
   "outputs": [
    {
     "data": {
      "text/plain": [
       "'home'"
      ]
     },
     "execution_count": 75,
     "metadata": {},
     "output_type": "execute_result"
    }
   ],
   "source": [
    "teamnamefull"
   ]
  },
  {
   "cell_type": "code",
   "execution_count": 76,
   "id": "7a0a8f49",
   "metadata": {},
   "outputs": [],
   "source": [
    "jerseys = [x for x in next(reader) if x != '']"
   ]
  },
  {
   "cell_type": "code",
   "execution_count": 81,
   "id": "3d19e219",
   "metadata": {},
   "outputs": [
    {
     "data": {
      "text/plain": [
       "list"
      ]
     },
     "execution_count": 81,
     "metadata": {},
     "output_type": "execute_result"
    }
   ],
   "source": [
    "type(jerseys)"
   ]
  },
  {
   "cell_type": "code",
   "execution_count": 78,
   "id": "bef52430",
   "metadata": {},
   "outputs": [],
   "source": [
    "columns = next(reader)"
   ]
  },
  {
   "cell_type": "code",
   "execution_count": 79,
   "id": "d036d872",
   "metadata": {},
   "outputs": [
    {
     "data": {
      "text/plain": [
       "['Period',\n",
       " 'Frame',\n",
       " 'Time [s]',\n",
       " 'Player11',\n",
       " '',\n",
       " 'Player1',\n",
       " '',\n",
       " 'Player2',\n",
       " '',\n",
       " 'Player3',\n",
       " '',\n",
       " 'Player4',\n",
       " '',\n",
       " 'Player5',\n",
       " '',\n",
       " 'Player6',\n",
       " '',\n",
       " 'Player7',\n",
       " '',\n",
       " 'Player8',\n",
       " '',\n",
       " 'Player9',\n",
       " '',\n",
       " 'Player10',\n",
       " '',\n",
       " 'Player12',\n",
       " '',\n",
       " 'Player13',\n",
       " '',\n",
       " 'Player14',\n",
       " '',\n",
       " 'Ball',\n",
       " '']"
      ]
     },
     "execution_count": 79,
     "metadata": {},
     "output_type": "execute_result"
    }
   ],
   "source": [
    "columns"
   ]
  },
  {
   "cell_type": "code",
   "execution_count": 82,
   "id": "aec179f6",
   "metadata": {},
   "outputs": [],
   "source": [
    "#Tracking data\n",
    "def tracking_data(DATADIR,game_id,teamname):\n",
    "    teamfile = '/Sample_Game_%d/Sample_Game_%d_RawTrackingData_%s_Team.csv' % (game_id,game_id,teamname)\n",
    "    # First:  deal with file headers so that we can get the player names correct\n",
    "    csvfile =  open('{}/{}'.format(DATADIR, teamfile), 'r') # create a csv file reader\n",
    "    reader = csv.reader(csvfile) \n",
    "    teamnamefull = next(reader)[3].lower()\n",
    "    print(\"Reading team: %s\" % teamnamefull)\n",
    "    # construct column names\n",
    "    jerseys = [x for x in next(reader) if x != ''] # extract player jersey numbers from second row\n",
    "    columns = next(reader)\n",
    "    for i, j in enumerate(jerseys): # create x & y position column headers for each player\n",
    "        columns[i*2+3] = \"{}_{}_x\".format(teamname, j)\n",
    "        columns[i*2+4] = \"{}_{}_y\".format(teamname, j)\n",
    "    columns[-2] = \"ball_x\" # column headers for the x & y positions of the ball\n",
    "    columns[-1] = \"ball_y\"\n",
    "    # Second: read in tracking data and place into pandas Dataframe\n",
    "    tracking = pd.read_csv('{}/{}'.format(DATADIR, teamfile), names=columns, index_col='Frame', skiprows=3)\n",
    "    return tracking"
   ]
  },
  {
   "cell_type": "code",
   "execution_count": 84,
   "id": "a7c529f5",
   "metadata": {},
   "outputs": [
    {
     "name": "stdout",
     "output_type": "stream",
     "text": [
      "Reading team: home\n",
      "Reading team: away\n"
     ]
    }
   ],
   "source": [
    "#reading tracking data\n",
    "tracking_home = tracking_data(DATADIR,game_id,'Home')\n",
    "tracking_away = tracking_data(DATADIR,game_id,'Away')"
   ]
  },
  {
   "cell_type": "code",
   "execution_count": 85,
   "id": "ece89ed9",
   "metadata": {},
   "outputs": [
    {
     "name": "stdout",
     "output_type": "stream",
     "text": [
      "Index(['Period', 'Time [s]', 'Home_11_x', 'Home_11_y', 'Home_1_x', 'Home_1_y',\n",
      "       'Home_2_x', 'Home_2_y', 'Home_3_x', 'Home_3_y', 'Home_4_x', 'Home_4_y',\n",
      "       'Home_5_x', 'Home_5_y', 'Home_6_x', 'Home_6_y', 'Home_7_x', 'Home_7_y',\n",
      "       'Home_8_x', 'Home_8_y', 'Home_9_x', 'Home_9_y', 'Home_10_x',\n",
      "       'Home_10_y', 'Home_12_x', 'Home_12_y', 'Home_13_x', 'Home_13_y',\n",
      "       'Home_14_x', 'Home_14_y', 'ball_x', 'ball_y'],\n",
      "      dtype='object')\n"
     ]
    }
   ],
   "source": [
    "print( tracking_home.columns )"
   ]
  },
  {
   "cell_type": "code",
   "execution_count": 86,
   "id": "70c74b4c",
   "metadata": {},
   "outputs": [
    {
     "data": {
      "text/html": [
       "<div>\n",
       "<style scoped>\n",
       "    .dataframe tbody tr th:only-of-type {\n",
       "        vertical-align: middle;\n",
       "    }\n",
       "\n",
       "    .dataframe tbody tr th {\n",
       "        vertical-align: top;\n",
       "    }\n",
       "\n",
       "    .dataframe thead th {\n",
       "        text-align: right;\n",
       "    }\n",
       "</style>\n",
       "<table border=\"1\" class=\"dataframe\">\n",
       "  <thead>\n",
       "    <tr style=\"text-align: right;\">\n",
       "      <th></th>\n",
       "      <th>Period</th>\n",
       "      <th>Time [s]</th>\n",
       "      <th>Home_11_x</th>\n",
       "      <th>Home_11_y</th>\n",
       "      <th>Home_1_x</th>\n",
       "      <th>Home_1_y</th>\n",
       "      <th>Home_2_x</th>\n",
       "      <th>Home_2_y</th>\n",
       "      <th>Home_3_x</th>\n",
       "      <th>Home_3_y</th>\n",
       "      <th>...</th>\n",
       "      <th>Home_10_x</th>\n",
       "      <th>Home_10_y</th>\n",
       "      <th>Home_12_x</th>\n",
       "      <th>Home_12_y</th>\n",
       "      <th>Home_13_x</th>\n",
       "      <th>Home_13_y</th>\n",
       "      <th>Home_14_x</th>\n",
       "      <th>Home_14_y</th>\n",
       "      <th>ball_x</th>\n",
       "      <th>ball_y</th>\n",
       "    </tr>\n",
       "    <tr>\n",
       "      <th>Frame</th>\n",
       "      <th></th>\n",
       "      <th></th>\n",
       "      <th></th>\n",
       "      <th></th>\n",
       "      <th></th>\n",
       "      <th></th>\n",
       "      <th></th>\n",
       "      <th></th>\n",
       "      <th></th>\n",
       "      <th></th>\n",
       "      <th></th>\n",
       "      <th></th>\n",
       "      <th></th>\n",
       "      <th></th>\n",
       "      <th></th>\n",
       "      <th></th>\n",
       "      <th></th>\n",
       "      <th></th>\n",
       "      <th></th>\n",
       "      <th></th>\n",
       "      <th></th>\n",
       "    </tr>\n",
       "  </thead>\n",
       "  <tbody>\n",
       "    <tr>\n",
       "      <th>1</th>\n",
       "      <td>1</td>\n",
       "      <td>0.04</td>\n",
       "      <td>0.94275</td>\n",
       "      <td>0.50413</td>\n",
       "      <td>0.64812</td>\n",
       "      <td>0.28605</td>\n",
       "      <td>0.67752</td>\n",
       "      <td>0.42803</td>\n",
       "      <td>0.69882</td>\n",
       "      <td>0.55606</td>\n",
       "      <td>...</td>\n",
       "      <td>0.50194</td>\n",
       "      <td>0.61123</td>\n",
       "      <td>NaN</td>\n",
       "      <td>NaN</td>\n",
       "      <td>NaN</td>\n",
       "      <td>NaN</td>\n",
       "      <td>NaN</td>\n",
       "      <td>NaN</td>\n",
       "      <td>NaN</td>\n",
       "      <td>NaN</td>\n",
       "    </tr>\n",
       "    <tr>\n",
       "      <th>2</th>\n",
       "      <td>1</td>\n",
       "      <td>0.08</td>\n",
       "      <td>0.94275</td>\n",
       "      <td>0.50413</td>\n",
       "      <td>0.64812</td>\n",
       "      <td>0.28605</td>\n",
       "      <td>0.67752</td>\n",
       "      <td>0.42803</td>\n",
       "      <td>0.69882</td>\n",
       "      <td>0.55606</td>\n",
       "      <td>...</td>\n",
       "      <td>0.50194</td>\n",
       "      <td>0.61123</td>\n",
       "      <td>NaN</td>\n",
       "      <td>NaN</td>\n",
       "      <td>NaN</td>\n",
       "      <td>NaN</td>\n",
       "      <td>NaN</td>\n",
       "      <td>NaN</td>\n",
       "      <td>NaN</td>\n",
       "      <td>NaN</td>\n",
       "    </tr>\n",
       "    <tr>\n",
       "      <th>3</th>\n",
       "      <td>1</td>\n",
       "      <td>0.12</td>\n",
       "      <td>0.94275</td>\n",
       "      <td>0.50413</td>\n",
       "      <td>0.64812</td>\n",
       "      <td>0.28605</td>\n",
       "      <td>0.67752</td>\n",
       "      <td>0.42803</td>\n",
       "      <td>0.69882</td>\n",
       "      <td>0.55606</td>\n",
       "      <td>...</td>\n",
       "      <td>0.50194</td>\n",
       "      <td>0.61123</td>\n",
       "      <td>NaN</td>\n",
       "      <td>NaN</td>\n",
       "      <td>NaN</td>\n",
       "      <td>NaN</td>\n",
       "      <td>NaN</td>\n",
       "      <td>NaN</td>\n",
       "      <td>NaN</td>\n",
       "      <td>NaN</td>\n",
       "    </tr>\n",
       "    <tr>\n",
       "      <th>4</th>\n",
       "      <td>1</td>\n",
       "      <td>0.16</td>\n",
       "      <td>0.94275</td>\n",
       "      <td>0.50413</td>\n",
       "      <td>0.64812</td>\n",
       "      <td>0.28605</td>\n",
       "      <td>0.67752</td>\n",
       "      <td>0.42803</td>\n",
       "      <td>0.69882</td>\n",
       "      <td>0.55606</td>\n",
       "      <td>...</td>\n",
       "      <td>0.50194</td>\n",
       "      <td>0.61123</td>\n",
       "      <td>NaN</td>\n",
       "      <td>NaN</td>\n",
       "      <td>NaN</td>\n",
       "      <td>NaN</td>\n",
       "      <td>NaN</td>\n",
       "      <td>NaN</td>\n",
       "      <td>NaN</td>\n",
       "      <td>NaN</td>\n",
       "    </tr>\n",
       "    <tr>\n",
       "      <th>5</th>\n",
       "      <td>1</td>\n",
       "      <td>0.20</td>\n",
       "      <td>0.94275</td>\n",
       "      <td>0.50413</td>\n",
       "      <td>0.64812</td>\n",
       "      <td>0.28605</td>\n",
       "      <td>0.67752</td>\n",
       "      <td>0.42803</td>\n",
       "      <td>0.69882</td>\n",
       "      <td>0.55606</td>\n",
       "      <td>...</td>\n",
       "      <td>0.50194</td>\n",
       "      <td>0.61123</td>\n",
       "      <td>NaN</td>\n",
       "      <td>NaN</td>\n",
       "      <td>NaN</td>\n",
       "      <td>NaN</td>\n",
       "      <td>NaN</td>\n",
       "      <td>NaN</td>\n",
       "      <td>NaN</td>\n",
       "      <td>NaN</td>\n",
       "    </tr>\n",
       "  </tbody>\n",
       "</table>\n",
       "<p>5 rows × 32 columns</p>\n",
       "</div>"
      ],
      "text/plain": [
       "       Period  Time [s]  Home_11_x  Home_11_y  Home_1_x  Home_1_y  Home_2_x  \\\n",
       "Frame                                                                         \n",
       "1           1      0.04    0.94275    0.50413   0.64812   0.28605   0.67752   \n",
       "2           1      0.08    0.94275    0.50413   0.64812   0.28605   0.67752   \n",
       "3           1      0.12    0.94275    0.50413   0.64812   0.28605   0.67752   \n",
       "4           1      0.16    0.94275    0.50413   0.64812   0.28605   0.67752   \n",
       "5           1      0.20    0.94275    0.50413   0.64812   0.28605   0.67752   \n",
       "\n",
       "       Home_2_y  Home_3_x  Home_3_y  ...  Home_10_x  Home_10_y  Home_12_x  \\\n",
       "Frame                                ...                                    \n",
       "1       0.42803   0.69882   0.55606  ...    0.50194    0.61123        NaN   \n",
       "2       0.42803   0.69882   0.55606  ...    0.50194    0.61123        NaN   \n",
       "3       0.42803   0.69882   0.55606  ...    0.50194    0.61123        NaN   \n",
       "4       0.42803   0.69882   0.55606  ...    0.50194    0.61123        NaN   \n",
       "5       0.42803   0.69882   0.55606  ...    0.50194    0.61123        NaN   \n",
       "\n",
       "       Home_12_y  Home_13_x  Home_13_y  Home_14_x  Home_14_y  ball_x  ball_y  \n",
       "Frame                                                                         \n",
       "1            NaN        NaN        NaN        NaN        NaN     NaN     NaN  \n",
       "2            NaN        NaN        NaN        NaN        NaN     NaN     NaN  \n",
       "3            NaN        NaN        NaN        NaN        NaN     NaN     NaN  \n",
       "4            NaN        NaN        NaN        NaN        NaN     NaN     NaN  \n",
       "5            NaN        NaN        NaN        NaN        NaN     NaN     NaN  \n",
       "\n",
       "[5 rows x 32 columns]"
      ]
     },
     "execution_count": 86,
     "metadata": {},
     "output_type": "execute_result"
    }
   ],
   "source": [
    "tracking_home.head()"
   ]
  },
  {
   "cell_type": "code",
   "execution_count": 89,
   "id": "d1c7400c",
   "metadata": {},
   "outputs": [
    {
     "data": {
      "text/plain": [
       "(141156, 32)"
      ]
     },
     "execution_count": 89,
     "metadata": {},
     "output_type": "execute_result"
    }
   ],
   "source": [
    "tracking_home.shape"
   ]
  },
  {
   "cell_type": "code",
   "execution_count": 90,
   "id": "f53650cb",
   "metadata": {},
   "outputs": [
    {
     "data": {
      "text/plain": [
       "1.0"
      ]
     },
     "execution_count": 90,
     "metadata": {},
     "output_type": "execute_result"
    }
   ],
   "source": [
    ".04*25"
   ]
  },
  {
   "cell_type": "code",
   "execution_count": 87,
   "id": "046f691a",
   "metadata": {},
   "outputs": [],
   "source": [
    "# Convert positions from metrica units to meters \n",
    "tracking_home = to_metric_coordinates(tracking_home)\n",
    "tracking_away = to_metric_coordinates(tracking_away)"
   ]
  },
  {
   "cell_type": "code",
   "execution_count": 91,
   "id": "cf10cdaf",
   "metadata": {},
   "outputs": [
    {
     "data": {
      "text/plain": [
       "[<matplotlib.lines.Line2D at 0x13125e320>]"
      ]
     },
     "execution_count": 91,
     "metadata": {},
     "output_type": "execute_result"
    },
    {
     "data": {
      "image/png": "[encoded data removed]",
      "text/plain": [
       "<Figure size 1200x800 with 1 Axes>"
      ]
     },
     "metadata": {},
     "output_type": "display_data"
    }
   ],
   "source": [
    "# Plot some player trajectories (players 11,1,2,3,4)\n",
    "fig,ax = plot_pitch()\n",
    "ax.plot( tracking_home['Home_11_x'].iloc[:1500], tracking_home['Home_11_y'].iloc[:1500], 'r.', markersize=1)\n"
   ]
  },
  {
   "cell_type": "code",
   "execution_count": 95,
   "id": "8f725184",
   "metadata": {},
   "outputs": [
    {
     "data": {
      "text/plain": [
       "[<matplotlib.lines.Line2D at 0x131dadc30>]"
      ]
     },
     "execution_count": 95,
     "metadata": {},
     "output_type": "execute_result"
    },
    {
     "data": {
      "image/png": "[encoded data removed]",
      "text/plain": [
       "<Figure size 1200x800 with 1 Axes>"
      ]
     },
     "metadata": {},
     "output_type": "display_data"
    }
   ],
   "source": [
    "fig,ax = plot_pitch()\n",
    "ax.plot( tracking_home['Home_11_x'].iloc[:1500], tracking_home['Home_11_y'].iloc[:1500], 'r.', markersize=1)\n",
    "ax.plot( tracking_home['Home_1_x'].iloc[:1500], tracking_home['Home_1_y'].iloc[:1500], 'b.', markersize=1)"
   ]
  },
  {
   "cell_type": "code",
   "execution_count": 127,
   "id": "4f11e3f8",
   "metadata": {},
   "outputs": [
    {
     "name": "stdout",
     "output_type": "stream",
     "text": [
      "Index(['Period', 'Time [s]', 'Home_11_x', 'Home_11_y', 'Home_1_x', 'Home_1_y',\n",
      "       'Home_2_x', 'Home_2_y', 'Home_3_x', 'Home_3_y', 'Home_4_x', 'Home_4_y',\n",
      "       'Home_5_x', 'Home_5_y', 'Home_6_x', 'Home_6_y', 'Home_7_x', 'Home_7_y',\n",
      "       'Home_8_x', 'Home_8_y', 'Home_9_x', 'Home_9_y', 'Home_10_x',\n",
      "       'Home_10_y', 'Home_12_x', 'Home_12_y', 'Home_13_x', 'Home_13_y',\n",
      "       'Home_14_x', 'Home_14_y', 'ball_x', 'ball_y'],\n",
      "      dtype='object')\n",
      "Index(['Period', 'Time [s]', 'Away_25_x', 'Away_25_y', 'Away_15_x',\n",
      "       'Away_15_y', 'Away_16_x', 'Away_16_y', 'Away_17_x', 'Away_17_y',\n",
      "       'Away_18_x', 'Away_18_y', 'Away_19_x', 'Away_19_y', 'Away_20_x',\n",
      "       'Away_20_y', 'Away_21_x', 'Away_21_y', 'Away_22_x', 'Away_22_y',\n",
      "       'Away_23_x', 'Away_23_y', 'Away_24_x', 'Away_24_y', 'Away_26_x',\n",
      "       'Away_26_y', 'ball_x', 'ball_y'],\n",
      "      dtype='object')\n"
     ]
    }
   ],
   "source": [
    "team_colors=('r','b')\n",
    "for team,color in zip( [tracking_home,tracking_away], team_colors) :\n",
    "    print(team.keys())"
   ]
  },
  {
   "cell_type": "code",
   "execution_count": 132,
   "id": "06f42c4f",
   "metadata": {},
   "outputs": [],
   "source": [
    "ax.plot?"
   ]
  },
  {
   "cell_type": "code",
   "execution_count": 130,
   "id": "6909641d",
   "metadata": {},
   "outputs": [],
   "source": [
    "def plot_frame( hometeam, awayteam, figax=None, team_colors=('r','b'), field_dimen = (106.0,68.0), PlayerMarkerSize=10, PlayerAlpha=0.7):\n",
    "    fig,ax = plot_pitch( field_dimen = field_dimen )\n",
    "    \n",
    "\n",
    "    for team,color in zip( [hometeam,awayteam], team_colors) :\n",
    "        x_columns = [c for c in team.keys() if c[-2:].lower()=='_x' and c!='ball_x'] # column header for player x positions\n",
    "        y_columns = [c for c in team.keys() if c[-2:].lower()=='_y' and c!='ball_y'] # column header for player y positions\n",
    "        ax.plot( team[x_columns], team[y_columns], color+'o', markersize=PlayerMarkerSize, alpha=PlayerAlpha ) # plot player positions\n",
    "        \n",
    "    # plot ball\n",
    "    ax.plot( hometeam['ball_x'], hometeam['ball_y'],'ko', markersize=6, alpha=1.0, linewidth=0)\n",
    "    return fig,ax"
   ]
  },
  {
   "cell_type": "code",
   "execution_count": 133,
   "id": "8221be92",
   "metadata": {},
   "outputs": [
    {
     "data": {
      "image/png": "[encoded data removed]",
      "text/plain": [
       "<Figure size 1200x800 with 1 Axes>"
      ]
     },
     "metadata": {},
     "output_type": "display_data"
    }
   ],
   "source": [
    "#player positions at kick-off\n",
    "kickoff = events.loc[0]['Start Frame']\n",
    "fig,ax = plot_frame( tracking_home.loc[kickoff], tracking_away.loc[kickoff] )"
   ]
  },
  {
   "cell_type": "code",
   "execution_count": 135,
   "id": "9f9fc2cb",
   "metadata": {},
   "outputs": [
    {
     "data": {
      "image/png": "[encoded data removed]",
      "text/plain": [
       "<Figure size 1200x800 with 1 Axes>"
      ]
     },
     "metadata": {},
     "output_type": "display_data"
    },
    {
     "data": {
      "image/png": "[encoded data removed]",
      "text/plain": [
       "<Figure size 1200x800 with 1 Axes>"
      ]
     },
     "metadata": {},
     "output_type": "display_data"
    }
   ],
   "source": [
    "#player positions at first goal\n",
    "fig,ax = plot_events( events.loc[198:198], indicators = ['Marker','Arrow'], annotate=True )\n",
    "goal_frame = events.loc[198]['Start Frame']\n",
    "fig,ax = plot_frame( tracking_home.loc[goal_frame], tracking_away.loc[goal_frame], figax = (fig,ax) )\n",
    "\n"
   ]
  },
  {
   "cell_type": "code",
   "execution_count": null,
   "id": "2163d29e",
   "metadata": {},
   "outputs": [],
   "source": []
  }
 ],
 "metadata": {
  "kernelspec": {
   "display_name": "Python 3 (ipykernel)",
   "language": "python",
   "name": "python3"
  },
  "language_info": {
   "codemirror_mode": {
    "name": "ipython",
    "version": 3
   },
   "file_extension": ".py",
   "mimetype": "text/x-python",
   "name": "python",
   "nbconvert_exporter": "python",
   "pygments_lexer": "ipython3",
   "version": "3.10.12"
  }
 },
 "nbformat": 4,
 "nbformat_minor": 5
}
